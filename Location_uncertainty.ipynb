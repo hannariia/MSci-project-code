{
 "cells": [
  {
   "cell_type": "code",
   "execution_count": 1,
   "id": "28c70fff",
   "metadata": {},
   "outputs": [],
   "source": [
    "import matplotlib.pyplot as plt\n",
    "import numpy as np\n",
    "import pandas as pd\n",
    "import os"
   ]
  },
  {
   "cell_type": "code",
   "execution_count": 2,
   "id": "601490cf",
   "metadata": {},
   "outputs": [
    {
     "name": "stdout",
     "output_type": "stream",
     "text": [
      "Average depth uncertainty is  0.4176 km\n"
     ]
    },
    {
     "data": {
      "text/plain": [
       "Text(0, 0.5, 'Number of events')"
      ]
     },
     "execution_count": 2,
     "metadata": {},
     "output_type": "execute_result"
    },
    {
     "data": {
      "image/png": "[encoded data removed]",
      "text/plain": [
       "<Figure size 720x360 with 1 Axes>"
      ]
     },
     "metadata": {
      "needs_background": "light"
     },
     "output_type": "display_data"
    }
   ],
   "source": [
    "# filepaths\n",
    "\n",
    "model = \"final_NEWsmavg\"\n",
    "\n",
    "model_path = os.path.join(\"/raid4/hra35/FMTOMO_REYK/final_models/\", model)\n",
    "errord = os.path.join(model_path, \"serrord.dat\")\n",
    "errorns = os.path.join(model_path, \"serrorns.dat\")\n",
    "errorew = os.path.join(model_path, \"serrorew.dat\")\n",
    "\n",
    "derrors = pd.read_csv(errord, header=None)\n",
    "\n",
    "# drop zero errors (events not relocated)\n",
    "zeros = derrors[derrors[0] == 0.0].index\n",
    "derrors.drop(zeros, axis=0, inplace=True)\n",
    "\n",
    "# average depth uncertainty\n",
    "avg_dep = np.average(derrors[0])\n",
    "print(\"Average depth uncertainty is \", np.round(avg_dep, 4), \"km\")\n",
    "\n",
    "# plot depth errors for model\n",
    "\n",
    "plt.figure(figsize=(10,5))\n",
    "\n",
    "plt.hist(derrors, bins = 50, edgecolor=\"black\")\n",
    "\n",
    "plt.xlabel(\"95% confidence interval in depth (km)\")\n",
    "plt.ylabel(\"Number of events\")\n",
    "\n",
    "#plt.show()"
   ]
  },
  {
   "cell_type": "code",
   "execution_count": 3,
   "id": "bcbd4991",
   "metadata": {},
   "outputs": [
    {
     "name": "stdout",
     "output_type": "stream",
     "text": [
      "Average depth uncertainty is  0.516 km\n"
     ]
    },
    {
     "data": {
      "text/plain": [
       "Text(0, 0.5, 'Number of events')"
      ]
     },
     "execution_count": 3,
     "metadata": {},
     "output_type": "execute_result"
    },
    {
     "data": {
      "image/png": "[encoded data removed]",
      "text/plain": [
       "<Figure size 720x360 with 1 Axes>"
      ]
     },
     "metadata": {
      "needs_background": "light"
     },
     "output_type": "display_data"
    }
   ],
   "source": [
    "# filepaths\n",
    "\n",
    "model = \"final_esme\"\n",
    "\n",
    "model_path = os.path.join(\"/raid4/hra35/FMTOMO_REYK/final_models/\", model)\n",
    "errord = os.path.join(model_path, \"serrord.dat\")\n",
    "errorns = os.path.join(model_path, \"serrorns.dat\")\n",
    "errorew = os.path.join(model_path, \"serrorew.dat\")\n",
    "\n",
    "derrors = pd.read_csv(errord, header=None)\n",
    "\n",
    "# drop zero errors (events not relocated)\n",
    "zeros = derrors[derrors[0] == 0.0].index\n",
    "derrors.drop(zeros, axis=0, inplace=True)\n",
    "\n",
    "# average depth uncertainty\n",
    "avg_dep = np.average(derrors[0])\n",
    "print(\"Average depth uncertainty is \", np.round(avg_dep, 4), \"km\")\n",
    "\n",
    "# plot depth errors for model\n",
    "\n",
    "plt.figure(figsize=(10,5))\n",
    "\n",
    "plt.hist(derrors, bins = 50, edgecolor=\"black\")\n",
    "\n",
    "plt.xlabel(\"95% confidence interval in depth (km)\")\n",
    "plt.ylabel(\"Number of events\")\n",
    "\n",
    "#plt.show()"
   ]
  },
  {
   "cell_type": "code",
   "execution_count": null,
   "id": "fabe1a9f",
   "metadata": {},
   "outputs": [],
   "source": []
  }
 ],
 "metadata": {
  "kernelspec": {
   "display_name": "Python 3 (ipykernel)",
   "language": "python",
   "name": "python3"
  },
  "language_info": {
   "codemirror_mode": {
    "name": "ipython",
    "version": 3
   },
   "file_extension": ".py",
   "mimetype": "text/x-python",
   "name": "python",
   "nbconvert_exporter": "python",
   "pygments_lexer": "ipython3",
   "version": "3.10.12"
  }
 },
 "nbformat": 4,
 "nbformat_minor": 5
}
