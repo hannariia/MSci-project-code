{
 "cells": [
  {
   "cell_type": "markdown",
   "id": "78cc9dec",
   "metadata": {},
   "source": [
    "This code calculates new 1D velocity models from FMTOMO vgrids.in outputs."
   ]
  },
  {
   "cell_type": "code",
   "execution_count": 1,
   "id": "bccf65e4",
   "metadata": {},
   "outputs": [],
   "source": [
    "# IMPORT PACKAGES\n",
    "\n",
    "import numpy as np\n",
    "import os\n",
    "import glob\n",
    "import pandas as pd\n",
    "import matplotlib.pyplot as plt"
   ]
  },
  {
   "cell_type": "code",
   "execution_count": 2,
   "id": "39b4f471",
   "metadata": {},
   "outputs": [],
   "source": [
    "# DEFINE FILEPATHS\n",
    "\n",
    "#vgrids_p = \"/raid4/hra35/1D_models_1ka/vgrids/pgrid_initial.in\"\n",
    "#vgrids_s = \"/raid4/hra35/1D_models_1ka/vgrids/sgrid_initial.in\"\n",
    "#new_model_file = \"/raid4/hra35/1D_models_1kb/initial_1k.vel\"\n",
    "\n",
    "vgrids_p = \"/raid4/hra35/1D_models_1kl/inversion_dir/invert_p/vgrids.in\"\n",
    "vgrids_s = \"/raid4/hra35/1D_models_1kl/inversion_dir/invert_s/vgrids.in\"\n",
    "new_model_file = \"/raid4/hra35/1D_models_1kl/NEW_oneit.vel\""
   ]
  },
  {
   "cell_type": "code",
   "execution_count": 3,
   "id": "719e46c6",
   "metadata": {},
   "outputs": [],
   "source": [
    "# GENERATE 1D P-VELOCITY MODEL\n",
    "\n",
    "# make a dataframe with each row representing a depth layer, from bottom up\n",
    "\n",
    "with open(vgrids_p, 'r') as file:\n",
    "    lines = file.readlines()[4:]\n",
    "        \n",
    "data = [float(line.strip().split()[0]) for line in lines if len(line.strip().split())!=0]\n",
    "data = [data[i:i+16] for i in range(0, len(data), 16)]\n",
    "\n",
    "df = pd.DataFrame(data)\n",
    "#print(df)\n",
    "\n",
    "# drop cushion node values\n",
    "\n",
    "df.drop([0, 1, 2, 3, 4, 7, 8, 11, 12, 13, 14, 15], axis=1, inplace=True)\n",
    "df.drop([0, 20], axis=0, inplace=True)\n",
    "#print(df)\n",
    "\n",
    "# calculate average velocity per depth\n",
    "\n",
    "p1d_model = df.mean(axis=1)\n",
    "p1d = p1d_model.iloc[::-1].reset_index(drop=True)\n",
    "p1d_model = pd.DataFrame({'Vp': p1d})\n",
    "#print(p1d_model)\n",
    "\n",
    "# generate depth values\n",
    "\n",
    "depths = np.arange(-1, 18, 1)\n",
    "depths[0]=-1\n",
    "depths[-1]=17.5\n",
    "#print(depths)\n",
    "\n",
    "# generate P-velocity model\n",
    "\n",
    "p1d_model.insert(0, 'depth', depths)\n",
    "#print(p1d_model)"
   ]
  },
  {
   "cell_type": "code",
   "execution_count": 4,
   "id": "e9277a74",
   "metadata": {},
   "outputs": [],
   "source": [
    "# GENERATE 1D S-VELOCITY MODEL\n",
    "\n",
    "# make a dataframe with each row representing a depth layer, from bottom up\n",
    "\n",
    "with open(vgrids_s, 'r') as file:\n",
    "    lines = file.readlines()[4:]\n",
    "        \n",
    "data = [float(line.strip().split()[0]) for line in lines if len(line.strip().split())!=0]\n",
    "data = [data[i:i+16] for i in range(0, len(data), 16)]\n",
    "\n",
    "df = pd.DataFrame(data)\n",
    "#print(df)\n",
    "\n",
    "# drop cushion node values\n",
    "\n",
    "df.drop([0, 1, 2, 3, 4, 7, 8, 11, 12, 13, 14, 15], axis=1, inplace=True)\n",
    "df.drop([0, 20], axis=0, inplace=True)\n",
    "#print(df)\n",
    "\n",
    "# calculate average velocity per depth\n",
    "\n",
    "s1d_model = df.mean(axis=1)\n",
    "s1d = s1d_model.iloc[::-1].reset_index(drop=True)\n",
    "s1d_model = pd.DataFrame({'Vs': s1d})\n",
    "#print(s1d_model)\n",
    "\n",
    "# generate depth values\n",
    "\n",
    "depths = np.arange(-1, 18, 1)\n",
    "depths[0]=-1\n",
    "depths[-1]=17.5\n",
    "#print(depths)\n",
    "\n",
    "# generate S-velocity model\n",
    "\n",
    "s1d_model.insert(0, 'depth', depths)\n",
    "#print(s1d_model)"
   ]
  },
  {
   "cell_type": "code",
   "execution_count": 5,
   "id": "5cb3a96f",
   "metadata": {},
   "outputs": [
    {
     "name": "stdout",
     "output_type": "stream",
     "text": [
      "    depth        Vp        Vs\n",
      "0      -1  2.252982  1.324332\n",
      "1       0  2.232464  1.360571\n",
      "2       1  2.434435  1.488239\n",
      "3       2  4.463992  2.670671\n",
      "4       3  5.596630  3.253222\n",
      "5       4  6.246438  3.485418\n",
      "6       5  6.363859  3.558529\n",
      "7       6  6.511728  3.625895\n",
      "8       7  6.632281  3.617020\n",
      "9       8  6.743877  3.672285\n",
      "10      9  6.786850  3.737063\n",
      "11     10  6.862528  3.821673\n",
      "12     11  6.938603  3.891931\n",
      "13     12  7.012754  3.951702\n",
      "14     13  7.131218  4.026882\n",
      "15     14  7.253985  4.097634\n",
      "16     15  7.376185  4.166916\n",
      "17     16  7.695899  4.348550\n",
      "18     17  7.731139  4.368591\n"
     ]
    }
   ],
   "source": [
    "# MERGE AND Vp AND Vs\n",
    "\n",
    "# merge dataframes to generate the new model\n",
    "\n",
    "new_model = p1d_model\n",
    "new_model[\"Vs\"] = s1d_model[\"Vs\"]\n",
    "print(new_model)\n",
    "\n",
    "# save new model into file\n",
    "\n",
    "new_model.to_csv(new_model_file, index=False, header=False, sep=\"\\t\")"
   ]
  },
  {
   "cell_type": "code",
   "execution_count": null,
   "id": "75bd1c47",
   "metadata": {},
   "outputs": [],
   "source": []
  }
 ],
 "metadata": {
  "kernelspec": {
   "display_name": "Python 3 (ipykernel)",
   "language": "python",
   "name": "python3"
  },
  "language_info": {
   "codemirror_mode": {
    "name": "ipython",
    "version": 3
   },
   "file_extension": ".py",
   "mimetype": "text/x-python",
   "name": "python",
   "nbconvert_exporter": "python",
   "pygments_lexer": "ipython3",
   "version": "3.10.12"
  }
 },
 "nbformat": 4,
 "nbformat_minor": 5
}
