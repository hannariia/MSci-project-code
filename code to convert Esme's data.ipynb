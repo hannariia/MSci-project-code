{
 "cells": [
  {
   "cell_type": "markdown",
   "id": "ae4e54b2",
   "metadata": {},
   "source": [
    "This code is for converting Esme's pick file into multiple .hyp files which can then be read in by the NLL code."
   ]
  },
  {
   "cell_type": "code",
   "execution_count": 1,
   "id": "60f58745",
   "metadata": {},
   "outputs": [],
   "source": [
    "# import packages\n",
    "\n",
    "import pandas as pd\n",
    "import numpy as np\n",
    "import os\n",
    "import glob\n",
    "import re"
   ]
  },
  {
   "cell_type": "code",
   "execution_count": 2,
   "id": "cd0885f7",
   "metadata": {},
   "outputs": [],
   "source": [
    "# define filepaths\n",
    "\n",
    "path_to_file = \"/home/hra35/Documents/events/all.loc.summary.hyp\"\n",
    "path_to_esme_picks = \"/home/hra35/Documents/events/esme_picks\"\n",
    "path_to_all_picks = \"/home/hra35/Documents/events/loc_picking_rise\""
   ]
  },
  {
   "cell_type": "code",
   "execution_count": 3,
   "id": "6e18cc5b",
   "metadata": {},
   "outputs": [
    {
     "name": "stdout",
     "output_type": "stream",
     "text": [
      "229\n"
     ]
    }
   ],
   "source": [
    "# LIST ESME'S EVENTS\n",
    "\n",
    "# read the summary file\n",
    "with open(path_to_file, 'r') as file:\n",
    "    lines = file.readlines()\n",
    "\n",
    "# save all event_IDs into a list\n",
    "esme_events = []\n",
    "for line in lines:\n",
    "    if line.strip().startswith(\"COMMENT\"):\n",
    "        entries = line.split()\n",
    "        event_ID = entries[1]\n",
    "        event_ID = event_ID[1:-1]\n",
    "        esme_events.append(event_ID)\n",
    "print(len(esme_events))"
   ]
  },
  {
   "cell_type": "code",
   "execution_count": 4,
   "id": "c0c7ace6",
   "metadata": {},
   "outputs": [],
   "source": [
    "# SPLIT THE ORIGINAL FILE INTO FILES PER EVENT\n",
    "\n",
    "split_keyword = \"Location completed.\"\n",
    "output_file_count = 1\n",
    "output_file_path = os.path.join(path_to_esme_picks, \"split_%s.hyp\" %output_file_count)\n",
    "output_file = open(output_file_path, 'w')\n",
    "                   \n",
    "with open(path_to_file, 'r') as big_file:\n",
    "    for line in big_file:\n",
    "        if split_keyword in line:\n",
    "            if output_file:\n",
    "                # close the current output file if it's open\n",
    "                output_file.close()\n",
    "                output_file_count += 1\n",
    "            # open a new output file\n",
    "            output_file_path = os.path.join(path_to_esme_picks, \"split_%s.hyp\" %output_file_count)\n",
    "            output_file = open(output_file_path, 'w')\n",
    "            \n",
    "        if output_file:\n",
    "            # write the line to the current output file\n",
    "            output_file.write(line)\n",
    "                   \n",
    "if output_file:\n",
    "    output_file.close()"
   ]
  },
  {
   "cell_type": "code",
   "execution_count": 5,
   "id": "6eb06806",
   "metadata": {},
   "outputs": [
    {
     "name": "stdout",
     "output_type": "stream",
     "text": [
      "196\n"
     ]
    }
   ],
   "source": [
    "# RENAME THE SPLIT FILES AFTER EVENTS\n",
    "\n",
    "split_files = glob.glob(os.path.join(path_to_esme_picks, f'*{\".hyp\"}'))\n",
    "\n",
    "for file in split_files:\n",
    "    with open(file, 'r') as file_to_read:\n",
    "        lines = file_to_read.readlines()       \n",
    "        for line in lines:            \n",
    "            if line.startswith(\"COMMENT\"):\n",
    "                entries = line.split()\n",
    "                event_ID = entries[1]\n",
    "                event_ID = event_ID[1:-1]\n",
    "    if event_ID != \"void\":\n",
    "        os.rename(file, os.path.join(path_to_esme_picks, f\"{event_ID}.hyp\"))\n",
    "    else:\n",
    "        os.remove(file)\n",
    "    event_ID = \"void\"\n",
    "\n",
    "split_files = glob.glob(os.path.join(path_to_esme_picks, f'*{\".hyp\"}'))\n",
    "print(len(split_files))"
   ]
  },
  {
   "cell_type": "code",
   "execution_count": null,
   "id": "f55df27e",
   "metadata": {},
   "outputs": [],
   "source": []
  }
 ],
 "metadata": {
  "kernelspec": {
   "display_name": "Python 3 (ipykernel)",
   "language": "python",
   "name": "python3"
  },
  "language_info": {
   "codemirror_mode": {
    "name": "ipython",
    "version": 3
   },
   "file_extension": ".py",
   "mimetype": "text/x-python",
   "name": "python",
   "nbconvert_exporter": "python",
   "pygments_lexer": "ipython3",
   "version": "3.10.12"
  }
 },
 "nbformat": 4,
 "nbformat_minor": 5
}
